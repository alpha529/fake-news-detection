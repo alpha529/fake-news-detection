{
 "cells": [
  {
   "cell_type": "markdown",
   "metadata": {},
   "source": [
    "# Fake News Detection"
   ]
  },
  {
   "cell_type": "markdown",
   "metadata": {},
   "source": [
    "### Import statements"
   ]
  },
  {
   "cell_type": "code",
   "execution_count": 1,
   "metadata": {
    "_cell_guid": "b1076dfc-b9ad-4769-8c92-a6c4dae69d19",
    "_uuid": "8f2839f25d086af736a60e9eeb907d3b93b6e0e5"
   },
   "outputs": [
    {
     "name": "stderr",
     "output_type": "stream",
     "text": [
      "[nltk_data] Downloading package punkt to /Users/admin/nltk_data...\n",
      "[nltk_data]   Package punkt is already up-to-date!\n"
     ]
    }
   ],
   "source": [
    "import numpy as np \n",
    "import pandas as pd \n",
    "import re\n",
    "import nltk\n",
    "nltk.download('punkt')\n",
    "from nltk.corpus import stopwords\n",
    "from sklearn.feature_extraction.text import CountVectorizer, TfidfVectorizer\n",
    "from sklearn.model_selection import train_test_split\n",
    "from sklearn.utils import shuffle\n",
    "import matplotlib.pyplot as plt\n",
    "import seaborn as sns\n",
    "from collections import Counter, defaultdict\n",
    "from xgboost import XGBClassifier\n",
    "from sklearn.linear_model import LogisticRegression\n",
    "from sklearn.model_selection import GridSearchCV\n",
    "from sklearn.linear_model import LogisticRegression,LogisticRegressionCV\n",
    "import matplotlib.pyplot as plt\n",
    "from sklearn.metrics import confusion_matrix, accuracy_score"
   ]
  },
  {
   "cell_type": "markdown",
   "metadata": {},
   "source": [
    "### Read the data\n",
    "The data consists of fake and true files seperately. The two are combined into a single dataset and the target feature label is created: 0 for fake and 1 for real."
   ]
  },
  {
   "cell_type": "code",
   "execution_count": 2,
   "metadata": {
    "_cell_guid": "79c7e3d0-c299-4dcb-8224-4455121ee9b0",
    "_uuid": "d629ff2d2480ee46fbb7e2d37f6b5fab8052498a"
   },
   "outputs": [],
   "source": [
    "fake_data = pd.read_csv(\"Fake.csv\")\n",
    "fake_data[\"label\"] = 0\n",
    "real_data = pd.read_csv(\"True.csv\")\n",
    "real_data[\"label\"] = 1"
   ]
  },
  {
   "cell_type": "code",
   "execution_count": 4,
   "metadata": {},
   "outputs": [
    {
     "data": {
      "text/html": [
       "<div>\n",
       "<style scoped>\n",
       "    .dataframe tbody tr th:only-of-type {\n",
       "        vertical-align: middle;\n",
       "    }\n",
       "\n",
       "    .dataframe tbody tr th {\n",
       "        vertical-align: top;\n",
       "    }\n",
       "\n",
       "    .dataframe thead th {\n",
       "        text-align: right;\n",
       "    }\n",
       "</style>\n",
       "<table border=\"1\" class=\"dataframe\">\n",
       "  <thead>\n",
       "    <tr style=\"text-align: right;\">\n",
       "      <th></th>\n",
       "      <th>title</th>\n",
       "      <th>text</th>\n",
       "      <th>subject</th>\n",
       "      <th>date</th>\n",
       "      <th>label</th>\n",
       "    </tr>\n",
       "  </thead>\n",
       "  <tbody>\n",
       "    <tr>\n",
       "      <th>15137</th>\n",
       "      <td>United Nations chief 'very worried' by Saudi-L...</td>\n",
       "      <td>UNITED NATIONS (Reuters) - U.N. Secretary-Gene...</td>\n",
       "      <td>worldnews</td>\n",
       "      <td>November 10, 2017</td>\n",
       "      <td>1</td>\n",
       "    </tr>\n",
       "    <tr>\n",
       "      <th>18651</th>\n",
       "      <td>Police to remove people from Catalan voting st...</td>\n",
       "      <td>BARCELONA (Reuters) - Police will remove peopl...</td>\n",
       "      <td>worldnews</td>\n",
       "      <td>September 30, 2017</td>\n",
       "      <td>1</td>\n",
       "    </tr>\n",
       "    <tr>\n",
       "      <th>1880</th>\n",
       "      <td>WATCH: Arnold Schwarzenegger Just BURNED Trum...</td>\n",
       "      <td>Back in February, Donald Trump decided he was ...</td>\n",
       "      <td>News</td>\n",
       "      <td>April 5, 2017</td>\n",
       "      <td>0</td>\n",
       "    </tr>\n",
       "    <tr>\n",
       "      <th>20256</th>\n",
       "      <td>OBAMA WARNS COPS TO RECOGNIZE BLACK LIVES MATT...</td>\n",
       "      <td>Watch Barack Obama identify himself as the lea...</td>\n",
       "      <td>left-news</td>\n",
       "      <td>Jul 18, 2016</td>\n",
       "      <td>0</td>\n",
       "    </tr>\n",
       "    <tr>\n",
       "      <th>17886</th>\n",
       "      <td>Myanmar takes first step to ease Buddhist-Musl...</td>\n",
       "      <td>YANGON (Reuters) - Myanmar on Tuesday launched...</td>\n",
       "      <td>worldnews</td>\n",
       "      <td>October 10, 2017</td>\n",
       "      <td>1</td>\n",
       "    </tr>\n",
       "  </tbody>\n",
       "</table>\n",
       "</div>"
      ],
      "text/plain": [
       "                                                   title  \\\n",
       "15137  United Nations chief 'very worried' by Saudi-L...   \n",
       "18651  Police to remove people from Catalan voting st...   \n",
       "1880    WATCH: Arnold Schwarzenegger Just BURNED Trum...   \n",
       "20256  OBAMA WARNS COPS TO RECOGNIZE BLACK LIVES MATT...   \n",
       "17886  Myanmar takes first step to ease Buddhist-Musl...   \n",
       "\n",
       "                                                    text    subject  \\\n",
       "15137  UNITED NATIONS (Reuters) - U.N. Secretary-Gene...  worldnews   \n",
       "18651  BARCELONA (Reuters) - Police will remove peopl...  worldnews   \n",
       "1880   Back in February, Donald Trump decided he was ...       News   \n",
       "20256  Watch Barack Obama identify himself as the lea...  left-news   \n",
       "17886  YANGON (Reuters) - Myanmar on Tuesday launched...  worldnews   \n",
       "\n",
       "                      date  label  \n",
       "15137   November 10, 2017       1  \n",
       "18651  September 30, 2017       1  \n",
       "1880         April 5, 2017      0  \n",
       "20256         Jul 18, 2016      0  \n",
       "17886    October 10, 2017       1  "
      ]
     },
     "execution_count": 4,
     "metadata": {},
     "output_type": "execute_result"
    }
   ],
   "source": [
    "data = pd.concat([fake_data, real_data])\n",
    "#data is shuffled to mix the label feature\n",
    "data = shuffle(data, random_state = 2)\n",
    "data.head()"
   ]
  },
  {
   "cell_type": "code",
   "execution_count": 5,
   "metadata": {},
   "outputs": [],
   "source": [
    "data.reset_index(level=0, inplace=True)"
   ]
  },
  {
   "cell_type": "code",
   "execution_count": 6,
   "metadata": {},
   "outputs": [],
   "source": [
    "data.drop([\"index\"],axis = 1,inplace = True)"
   ]
  },
  {
   "cell_type": "code",
   "execution_count": 7,
   "metadata": {
    "scrolled": false
   },
   "outputs": [
    {
     "data": {
      "text/html": [
       "<div>\n",
       "<style scoped>\n",
       "    .dataframe tbody tr th:only-of-type {\n",
       "        vertical-align: middle;\n",
       "    }\n",
       "\n",
       "    .dataframe tbody tr th {\n",
       "        vertical-align: top;\n",
       "    }\n",
       "\n",
       "    .dataframe thead th {\n",
       "        text-align: right;\n",
       "    }\n",
       "</style>\n",
       "<table border=\"1\" class=\"dataframe\">\n",
       "  <thead>\n",
       "    <tr style=\"text-align: right;\">\n",
       "      <th></th>\n",
       "      <th>title</th>\n",
       "      <th>text</th>\n",
       "      <th>subject</th>\n",
       "      <th>date</th>\n",
       "      <th>label</th>\n",
       "    </tr>\n",
       "  </thead>\n",
       "  <tbody>\n",
       "    <tr>\n",
       "      <th>0</th>\n",
       "      <td>United Nations chief 'very worried' by Saudi-L...</td>\n",
       "      <td>UNITED NATIONS (Reuters) - U.N. Secretary-Gene...</td>\n",
       "      <td>worldnews</td>\n",
       "      <td>November 10, 2017</td>\n",
       "      <td>1</td>\n",
       "    </tr>\n",
       "    <tr>\n",
       "      <th>1</th>\n",
       "      <td>Police to remove people from Catalan voting st...</td>\n",
       "      <td>BARCELONA (Reuters) - Police will remove peopl...</td>\n",
       "      <td>worldnews</td>\n",
       "      <td>September 30, 2017</td>\n",
       "      <td>1</td>\n",
       "    </tr>\n",
       "    <tr>\n",
       "      <th>2</th>\n",
       "      <td>WATCH: Arnold Schwarzenegger Just BURNED Trum...</td>\n",
       "      <td>Back in February, Donald Trump decided he was ...</td>\n",
       "      <td>News</td>\n",
       "      <td>April 5, 2017</td>\n",
       "      <td>0</td>\n",
       "    </tr>\n",
       "    <tr>\n",
       "      <th>3</th>\n",
       "      <td>OBAMA WARNS COPS TO RECOGNIZE BLACK LIVES MATT...</td>\n",
       "      <td>Watch Barack Obama identify himself as the lea...</td>\n",
       "      <td>left-news</td>\n",
       "      <td>Jul 18, 2016</td>\n",
       "      <td>0</td>\n",
       "    </tr>\n",
       "    <tr>\n",
       "      <th>4</th>\n",
       "      <td>Myanmar takes first step to ease Buddhist-Musl...</td>\n",
       "      <td>YANGON (Reuters) - Myanmar on Tuesday launched...</td>\n",
       "      <td>worldnews</td>\n",
       "      <td>October 10, 2017</td>\n",
       "      <td>1</td>\n",
       "    </tr>\n",
       "  </tbody>\n",
       "</table>\n",
       "</div>"
      ],
      "text/plain": [
       "                                               title  \\\n",
       "0  United Nations chief 'very worried' by Saudi-L...   \n",
       "1  Police to remove people from Catalan voting st...   \n",
       "2   WATCH: Arnold Schwarzenegger Just BURNED Trum...   \n",
       "3  OBAMA WARNS COPS TO RECOGNIZE BLACK LIVES MATT...   \n",
       "4  Myanmar takes first step to ease Buddhist-Musl...   \n",
       "\n",
       "                                                text    subject  \\\n",
       "0  UNITED NATIONS (Reuters) - U.N. Secretary-Gene...  worldnews   \n",
       "1  BARCELONA (Reuters) - Police will remove peopl...  worldnews   \n",
       "2  Back in February, Donald Trump decided he was ...       News   \n",
       "3  Watch Barack Obama identify himself as the lea...  left-news   \n",
       "4  YANGON (Reuters) - Myanmar on Tuesday launched...  worldnews   \n",
       "\n",
       "                  date  label  \n",
       "0   November 10, 2017       1  \n",
       "1  September 30, 2017       1  \n",
       "2        April 5, 2017      0  \n",
       "3         Jul 18, 2016      0  \n",
       "4    October 10, 2017       1  "
      ]
     },
     "execution_count": 7,
     "metadata": {},
     "output_type": "execute_result"
    }
   ],
   "source": [
    "data.head()"
   ]
  },
  {
   "cell_type": "markdown",
   "metadata": {},
   "source": [
    "### Check for missing values"
   ]
  },
  {
   "cell_type": "code",
   "execution_count": 8,
   "metadata": {},
   "outputs": [
    {
     "data": {
      "text/plain": [
       "title      0\n",
       "text       0\n",
       "subject    0\n",
       "date       0\n",
       "label      0\n",
       "dtype: int64"
      ]
     },
     "execution_count": 8,
     "metadata": {},
     "output_type": "execute_result"
    }
   ],
   "source": [
    "data.isnull().sum()"
   ]
  },
  {
   "cell_type": "markdown",
   "metadata": {},
   "source": [
    "### Text preprocessing"
   ]
  },
  {
   "cell_type": "code",
   "execution_count": 9,
   "metadata": {},
   "outputs": [],
   "source": [
    "#stopwords from nltk library to be removed from the data\n",
    "stopword = stopwords.words('english')"
   ]
  },
  {
   "cell_type": "code",
   "execution_count": 10,
   "metadata": {},
   "outputs": [],
   "source": [
    "def text_processing(text):\n",
    "    #remove punctuations\n",
    "    text = re.sub(\"[^\\w\\d\\s]+\",' ',text)\n",
    "    #lower case the words\n",
    "    text = text.lower()\n",
    "    #convert the sentences to tokens\n",
    "    tok = nltk.word_tokenize(text)\n",
    "    #remove stopwords\n",
    "    words = [word for word in tok if word not in stopword]\n",
    "    return words"
   ]
  },
  {
   "cell_type": "code",
   "execution_count": 11,
   "metadata": {},
   "outputs": [],
   "source": [
    "#join the words into the data\n",
    "def join_words(words):\n",
    "    words = ' '.join(words)\n",
    "    return words"
   ]
  },
  {
   "cell_type": "code",
   "execution_count": 12,
   "metadata": {},
   "outputs": [],
   "source": [
    "#perform text processing on the data using the above defined functions\n",
    "for i in data:\n",
    "    if i == \"label\":\n",
    "        continue\n",
    "    else:\n",
    "        data[i] = data[i].apply(lambda x: text_processing(x))"
   ]
  },
  {
   "cell_type": "code",
   "execution_count": 13,
   "metadata": {},
   "outputs": [],
   "source": [
    "for j in data:\n",
    "    if j == \"label\":\n",
    "        continue\n",
    "    else:\n",
    "        data[j] = data[j].apply(lambda x: join_words(x))"
   ]
  },
  {
   "cell_type": "code",
   "execution_count": 14,
   "metadata": {
    "scrolled": false
   },
   "outputs": [
    {
     "data": {
      "text/html": [
       "<div>\n",
       "<style scoped>\n",
       "    .dataframe tbody tr th:only-of-type {\n",
       "        vertical-align: middle;\n",
       "    }\n",
       "\n",
       "    .dataframe tbody tr th {\n",
       "        vertical-align: top;\n",
       "    }\n",
       "\n",
       "    .dataframe thead th {\n",
       "        text-align: right;\n",
       "    }\n",
       "</style>\n",
       "<table border=\"1\" class=\"dataframe\">\n",
       "  <thead>\n",
       "    <tr style=\"text-align: right;\">\n",
       "      <th></th>\n",
       "      <th>title</th>\n",
       "      <th>text</th>\n",
       "      <th>subject</th>\n",
       "      <th>date</th>\n",
       "      <th>label</th>\n",
       "    </tr>\n",
       "  </thead>\n",
       "  <tbody>\n",
       "    <tr>\n",
       "      <th>0</th>\n",
       "      <td>united nations chief worried saudi lebanon ten...</td>\n",
       "      <td>united nations reuters u n secretary general a...</td>\n",
       "      <td>worldnews</td>\n",
       "      <td>november 10 2017</td>\n",
       "      <td>1</td>\n",
       "    </tr>\n",
       "    <tr>\n",
       "      <th>1</th>\n",
       "      <td>police remove people catalan voting stations s...</td>\n",
       "      <td>barcelona reuters police remove people catalan...</td>\n",
       "      <td>worldnews</td>\n",
       "      <td>september 30 2017</td>\n",
       "      <td>1</td>\n",
       "    </tr>\n",
       "    <tr>\n",
       "      <th>2</th>\n",
       "      <td>watch arnold schwarzenegger burned trump appre...</td>\n",
       "      <td>back february donald trump decided going use w...</td>\n",
       "      <td>news</td>\n",
       "      <td>april 5 2017</td>\n",
       "      <td>0</td>\n",
       "    </tr>\n",
       "    <tr>\n",
       "      <th>3</th>\n",
       "      <td>obama warns cops recognize black lives matter ...</td>\n",
       "      <td>watch barack obama identify leader black lives...</td>\n",
       "      <td>left news</td>\n",
       "      <td>jul 18 2016</td>\n",
       "      <td>0</td>\n",
       "    </tr>\n",
       "    <tr>\n",
       "      <th>4</th>\n",
       "      <td>myanmar takes first step ease buddhist muslim ...</td>\n",
       "      <td>yangon reuters myanmar tuesday launched first ...</td>\n",
       "      <td>worldnews</td>\n",
       "      <td>october 10 2017</td>\n",
       "      <td>1</td>\n",
       "    </tr>\n",
       "  </tbody>\n",
       "</table>\n",
       "</div>"
      ],
      "text/plain": [
       "                                               title  \\\n",
       "0  united nations chief worried saudi lebanon ten...   \n",
       "1  police remove people catalan voting stations s...   \n",
       "2  watch arnold schwarzenegger burned trump appre...   \n",
       "3  obama warns cops recognize black lives matter ...   \n",
       "4  myanmar takes first step ease buddhist muslim ...   \n",
       "\n",
       "                                                text    subject  \\\n",
       "0  united nations reuters u n secretary general a...  worldnews   \n",
       "1  barcelona reuters police remove people catalan...  worldnews   \n",
       "2  back february donald trump decided going use w...       news   \n",
       "3  watch barack obama identify leader black lives...  left news   \n",
       "4  yangon reuters myanmar tuesday launched first ...  worldnews   \n",
       "\n",
       "                date  label  \n",
       "0   november 10 2017      1  \n",
       "1  september 30 2017      1  \n",
       "2       april 5 2017      0  \n",
       "3        jul 18 2016      0  \n",
       "4    october 10 2017      1  "
      ]
     },
     "execution_count": 14,
     "metadata": {},
     "output_type": "execute_result"
    }
   ],
   "source": [
    "data.head()"
   ]
  },
  {
   "cell_type": "markdown",
   "metadata": {},
   "source": [
    "## Data exploration\n",
    "reference: #https://www.kaggle.com/benfraser/visually-exploring-and-predicting-fake-news"
   ]
  },
  {
   "cell_type": "code",
   "execution_count": 15,
   "metadata": {
    "scrolled": true
   },
   "outputs": [
    {
     "data": {
      "image/png": "[encoded data removed]",
      "text/plain": [
       "<Figure size 432x288 with 1 Axes>"
      ]
     },
     "metadata": {},
     "output_type": "display_data"
    }
   ],
   "source": [
    "#Plot the percentage of fake and real news in the data\n",
    "real = len(data[data[\"label\"] == 1])\n",
    "fake = len(data[data[\"label\"] == 0])\n",
    "\n",
    "df_count_pie = pd.DataFrame({'Class' : ['Real', 'Fake'], \n",
    "                             'Counts' : [real, fake]})\n",
    "df_count_pie.Counts.groupby(df_count_pie.Class).sum().plot(kind='pie',autopct = '%1.1f%%')\n",
    "plt.axis('equal')\n",
    "plt.title(\"Percentage of Real and Fake news\")\n",
    "plt.show()"
   ]
  },
  {
   "cell_type": "code",
   "execution_count": 16,
   "metadata": {
    "scrolled": true
   },
   "outputs": [
    {
     "data": {
      "text/plain": [
       "Text(0.5, 1.0, 'Subject wise total real and fake news')"
      ]
     },
     "execution_count": 16,
     "metadata": {},
     "output_type": "execute_result"
    },
    {
     "data": {
      "image/png": "[encoded data removed]",
      "text/plain": [
       "<Figure size 576x360 with 1 Axes>"
      ]
     },
     "metadata": {
      "needs_background": "light"
     },
     "output_type": "display_data"
    }
   ],
   "source": [
    "#Visualize the count of fake and real news based on Subject topics\n",
    "plt.figure(figsize=(8,5))\n",
    "ax = sns.countplot(x = \"subject\", hue = \"label\", data = data)\n",
    "plt.xticks(rotation=90)\n",
    "plt.title(\"Subject wise total real and fake news\")"
   ]
  },
  {
   "cell_type": "code",
   "execution_count": 17,
   "metadata": {},
   "outputs": [],
   "source": [
    "#create a corpus of words\n",
    "def create_corpus(text_data):\n",
    "    corpus = []\n",
    "    for sentence in text_data:\n",
    "        for word in sentence.split():\n",
    "            corpus.append(word)\n",
    "    return corpus\n",
    "\n",
    "#pick the top words\n",
    "def top_words(text_corpus, top_n=25, return_dict=False):\n",
    "    def_dict = defaultdict(int)\n",
    "    for word in text_corpus:\n",
    "        def_dict[word] += 1\n",
    "    most_common = sorted(def_dict.items(), key=lambda x : x[1], reverse=True)[:top_n]\n",
    "    if return_dict:\n",
    "        return most_common, def_dict\n",
    "    else:    \n",
    "        return most_common\n",
    "\n",
    "#plot the words\n",
    "def plot_words(word_list, word_counts, n, text_description, figsize=(15,5)):\n",
    "    plt.figure(figsize=figsize)\n",
    "    plt.xticks(rotation=90)\n",
    "    plt.bar(word_list, word_counts)\n",
    "    plt.title(f\"Top {n} words in {text_description}\", weight='bold')\n",
    "    plt.ylabel(\"Word Count\", weight='bold')\n",
    "    plt.show()"
   ]
  },
  {
   "cell_type": "code",
   "execution_count": 18,
   "metadata": {
    "scrolled": true
   },
   "outputs": [
    {
     "data": {
      "image/png": "[encoded data removed]",
      "text/plain": [
       "<Figure size 1080x288 with 1 Axes>"
      ]
     },
     "metadata": {
      "needs_background": "light"
     },
     "output_type": "display_data"
    },
    {
     "data": {
      "image/png": "[encoded data removed]",
      "text/plain": [
       "<Figure size 1080x288 with 1 Axes>"
      ]
     },
     "metadata": {
      "needs_background": "light"
     },
     "output_type": "display_data"
    }
   ],
   "source": [
    "#plot the top 50 words count in the fake and real news\n",
    "top_n = 50\n",
    "data[\"news\"] = data[\"title\"] + \" \" + data[\"text\"]\n",
    "text_field = \"news\"\n",
    "\n",
    "fake_news = data.loc[data['label'] == 0]\n",
    "true_news = data.loc[data['label'] == 1]\n",
    "\n",
    "fake_corpus = create_corpus(fake_news[text_field].values)\n",
    "fake_top_n_words, fake_symptom_dict = top_words(fake_corpus, top_n = top_n, return_dict = True)\n",
    "fake_words, fake_word_counts = zip(*fake_top_n_words)\n",
    "plot_words(fake_words, fake_word_counts, 50, \"Top 50 words in fake news\", figsize=(15,4))\n",
    "\n",
    "true_corpus = create_corpus(true_news[text_field].values)\n",
    "true_top_n_words, true_symptom_dict = top_words(true_corpus, top_n=top_n, return_dict=True)\n",
    "true_words, true_word_counts = zip(*true_top_n_words)\n",
    "plot_words(true_words, true_word_counts, 50, \"Top 50 words in real news\", figsize=(15,4))"
   ]
  },
  {
   "cell_type": "markdown",
   "metadata": {},
   "source": [
    "## Preparing data for models"
   ]
  },
  {
   "cell_type": "code",
   "execution_count": 19,
   "metadata": {},
   "outputs": [],
   "source": [
    "#Prepare the data using title\n",
    "X_title = data.title\n",
    "y_title = data.label"
   ]
  },
  {
   "cell_type": "code",
   "execution_count": 20,
   "metadata": {},
   "outputs": [],
   "source": [
    "X_train, X_test, y_train, y_test = train_test_split(X_title,y_title, test_size = 0.33, random_state = 42)"
   ]
  },
  {
   "cell_type": "code",
   "execution_count": 21,
   "metadata": {},
   "outputs": [],
   "source": [
    "#use TF=IDF to convert the words to vectors\n",
    "tvec = TfidfVectorizer(min_df = 2, max_df = 0.90, max_features = 1000)\n",
    "word_vec = tvec.fit(X_train)"
   ]
  },
  {
   "cell_type": "code",
   "execution_count": 22,
   "metadata": {},
   "outputs": [],
   "source": [
    "#convert the transform to dataframe\n",
    "train_df = pd.DataFrame(tvec.transform(X_train).todense(),columns = tvec.get_feature_names())"
   ]
  },
  {
   "cell_type": "code",
   "execution_count": 23,
   "metadata": {},
   "outputs": [
    {
     "data": {
      "text/html": [
       "<div>\n",
       "<style scoped>\n",
       "    .dataframe tbody tr th:only-of-type {\n",
       "        vertical-align: middle;\n",
       "    }\n",
       "\n",
       "    .dataframe tbody tr th {\n",
       "        vertical-align: top;\n",
       "    }\n",
       "\n",
       "    .dataframe thead th {\n",
       "        text-align: right;\n",
       "    }\n",
       "</style>\n",
       "<table border=\"1\" class=\"dataframe\">\n",
       "  <thead>\n",
       "    <tr style=\"text-align: right;\">\n",
       "      <th></th>\n",
       "      <th>000</th>\n",
       "      <th>10</th>\n",
       "      <th>100</th>\n",
       "      <th>11</th>\n",
       "      <th>12</th>\n",
       "      <th>13</th>\n",
       "      <th>15</th>\n",
       "      <th>20</th>\n",
       "      <th>2016</th>\n",
       "      <th>2018</th>\n",
       "      <th>...</th>\n",
       "      <th>wrong</th>\n",
       "      <th>xi</th>\n",
       "      <th>year</th>\n",
       "      <th>years</th>\n",
       "      <th>yemen</th>\n",
       "      <th>yet</th>\n",
       "      <th>york</th>\n",
       "      <th>young</th>\n",
       "      <th>yr</th>\n",
       "      <th>zimbabwe</th>\n",
       "    </tr>\n",
       "  </thead>\n",
       "  <tbody>\n",
       "    <tr>\n",
       "      <th>0</th>\n",
       "      <td>0.0</td>\n",
       "      <td>0.0</td>\n",
       "      <td>0.0</td>\n",
       "      <td>0.0</td>\n",
       "      <td>0.0</td>\n",
       "      <td>0.0</td>\n",
       "      <td>0.0</td>\n",
       "      <td>0.0</td>\n",
       "      <td>0.0</td>\n",
       "      <td>0.0</td>\n",
       "      <td>...</td>\n",
       "      <td>0.0</td>\n",
       "      <td>0.0</td>\n",
       "      <td>0.0</td>\n",
       "      <td>0.0</td>\n",
       "      <td>0.0</td>\n",
       "      <td>0.0</td>\n",
       "      <td>0.0</td>\n",
       "      <td>0.0</td>\n",
       "      <td>0.0</td>\n",
       "      <td>0.0</td>\n",
       "    </tr>\n",
       "    <tr>\n",
       "      <th>1</th>\n",
       "      <td>0.0</td>\n",
       "      <td>0.0</td>\n",
       "      <td>0.0</td>\n",
       "      <td>0.0</td>\n",
       "      <td>0.0</td>\n",
       "      <td>0.0</td>\n",
       "      <td>0.0</td>\n",
       "      <td>0.0</td>\n",
       "      <td>0.0</td>\n",
       "      <td>0.0</td>\n",
       "      <td>...</td>\n",
       "      <td>0.0</td>\n",
       "      <td>0.0</td>\n",
       "      <td>0.0</td>\n",
       "      <td>0.0</td>\n",
       "      <td>0.0</td>\n",
       "      <td>0.0</td>\n",
       "      <td>0.0</td>\n",
       "      <td>0.0</td>\n",
       "      <td>0.0</td>\n",
       "      <td>0.0</td>\n",
       "    </tr>\n",
       "    <tr>\n",
       "      <th>2</th>\n",
       "      <td>0.0</td>\n",
       "      <td>0.0</td>\n",
       "      <td>0.0</td>\n",
       "      <td>0.0</td>\n",
       "      <td>0.0</td>\n",
       "      <td>0.0</td>\n",
       "      <td>0.0</td>\n",
       "      <td>0.0</td>\n",
       "      <td>0.0</td>\n",
       "      <td>0.0</td>\n",
       "      <td>...</td>\n",
       "      <td>0.0</td>\n",
       "      <td>0.0</td>\n",
       "      <td>0.0</td>\n",
       "      <td>0.0</td>\n",
       "      <td>0.0</td>\n",
       "      <td>0.0</td>\n",
       "      <td>0.0</td>\n",
       "      <td>0.0</td>\n",
       "      <td>0.0</td>\n",
       "      <td>0.0</td>\n",
       "    </tr>\n",
       "    <tr>\n",
       "      <th>3</th>\n",
       "      <td>0.0</td>\n",
       "      <td>0.0</td>\n",
       "      <td>0.0</td>\n",
       "      <td>0.0</td>\n",
       "      <td>0.0</td>\n",
       "      <td>0.0</td>\n",
       "      <td>0.0</td>\n",
       "      <td>0.0</td>\n",
       "      <td>0.0</td>\n",
       "      <td>0.0</td>\n",
       "      <td>...</td>\n",
       "      <td>0.0</td>\n",
       "      <td>0.0</td>\n",
       "      <td>0.0</td>\n",
       "      <td>0.0</td>\n",
       "      <td>0.0</td>\n",
       "      <td>0.0</td>\n",
       "      <td>0.0</td>\n",
       "      <td>0.0</td>\n",
       "      <td>0.0</td>\n",
       "      <td>0.0</td>\n",
       "    </tr>\n",
       "    <tr>\n",
       "      <th>4</th>\n",
       "      <td>0.0</td>\n",
       "      <td>0.0</td>\n",
       "      <td>0.0</td>\n",
       "      <td>0.0</td>\n",
       "      <td>0.0</td>\n",
       "      <td>0.0</td>\n",
       "      <td>0.0</td>\n",
       "      <td>0.0</td>\n",
       "      <td>0.0</td>\n",
       "      <td>0.0</td>\n",
       "      <td>...</td>\n",
       "      <td>0.0</td>\n",
       "      <td>0.0</td>\n",
       "      <td>0.0</td>\n",
       "      <td>0.0</td>\n",
       "      <td>0.0</td>\n",
       "      <td>0.0</td>\n",
       "      <td>0.0</td>\n",
       "      <td>0.0</td>\n",
       "      <td>0.0</td>\n",
       "      <td>0.0</td>\n",
       "    </tr>\n",
       "  </tbody>\n",
       "</table>\n",
       "<p>5 rows × 1000 columns</p>\n",
       "</div>"
      ],
      "text/plain": [
       "   000   10  100   11   12   13   15   20  2016  2018  ...  wrong   xi  year  \\\n",
       "0  0.0  0.0  0.0  0.0  0.0  0.0  0.0  0.0   0.0   0.0  ...    0.0  0.0   0.0   \n",
       "1  0.0  0.0  0.0  0.0  0.0  0.0  0.0  0.0   0.0   0.0  ...    0.0  0.0   0.0   \n",
       "2  0.0  0.0  0.0  0.0  0.0  0.0  0.0  0.0   0.0   0.0  ...    0.0  0.0   0.0   \n",
       "3  0.0  0.0  0.0  0.0  0.0  0.0  0.0  0.0   0.0   0.0  ...    0.0  0.0   0.0   \n",
       "4  0.0  0.0  0.0  0.0  0.0  0.0  0.0  0.0   0.0   0.0  ...    0.0  0.0   0.0   \n",
       "\n",
       "   years  yemen  yet  york  young   yr  zimbabwe  \n",
       "0    0.0    0.0  0.0   0.0    0.0  0.0       0.0  \n",
       "1    0.0    0.0  0.0   0.0    0.0  0.0       0.0  \n",
       "2    0.0    0.0  0.0   0.0    0.0  0.0       0.0  \n",
       "3    0.0    0.0  0.0   0.0    0.0  0.0       0.0  \n",
       "4    0.0    0.0  0.0   0.0    0.0  0.0       0.0  \n",
       "\n",
       "[5 rows x 1000 columns]"
      ]
     },
     "execution_count": 23,
     "metadata": {},
     "output_type": "execute_result"
    }
   ],
   "source": [
    "train_df.head()"
   ]
  },
  {
   "cell_type": "code",
   "execution_count": 24,
   "metadata": {},
   "outputs": [],
   "source": [
    "test_df = pd.DataFrame(tvec.transform(X_test).todense(),columns = tvec.get_feature_names())"
   ]
  },
  {
   "cell_type": "code",
   "execution_count": 25,
   "metadata": {},
   "outputs": [
    {
     "data": {
      "text/html": [
       "<div>\n",
       "<style scoped>\n",
       "    .dataframe tbody tr th:only-of-type {\n",
       "        vertical-align: middle;\n",
       "    }\n",
       "\n",
       "    .dataframe tbody tr th {\n",
       "        vertical-align: top;\n",
       "    }\n",
       "\n",
       "    .dataframe thead th {\n",
       "        text-align: right;\n",
       "    }\n",
       "</style>\n",
       "<table border=\"1\" class=\"dataframe\">\n",
       "  <thead>\n",
       "    <tr style=\"text-align: right;\">\n",
       "      <th></th>\n",
       "      <th>000</th>\n",
       "      <th>10</th>\n",
       "      <th>100</th>\n",
       "      <th>11</th>\n",
       "      <th>12</th>\n",
       "      <th>13</th>\n",
       "      <th>15</th>\n",
       "      <th>20</th>\n",
       "      <th>2016</th>\n",
       "      <th>2018</th>\n",
       "      <th>...</th>\n",
       "      <th>wrong</th>\n",
       "      <th>xi</th>\n",
       "      <th>year</th>\n",
       "      <th>years</th>\n",
       "      <th>yemen</th>\n",
       "      <th>yet</th>\n",
       "      <th>york</th>\n",
       "      <th>young</th>\n",
       "      <th>yr</th>\n",
       "      <th>zimbabwe</th>\n",
       "    </tr>\n",
       "  </thead>\n",
       "  <tbody>\n",
       "    <tr>\n",
       "      <th>0</th>\n",
       "      <td>0.0</td>\n",
       "      <td>0.0</td>\n",
       "      <td>0.0</td>\n",
       "      <td>0.0</td>\n",
       "      <td>0.0</td>\n",
       "      <td>0.0</td>\n",
       "      <td>0.0</td>\n",
       "      <td>0.0</td>\n",
       "      <td>0.0</td>\n",
       "      <td>0.0</td>\n",
       "      <td>...</td>\n",
       "      <td>0.0</td>\n",
       "      <td>0.0</td>\n",
       "      <td>0.0</td>\n",
       "      <td>0.0</td>\n",
       "      <td>0.0</td>\n",
       "      <td>0.0</td>\n",
       "      <td>0.0</td>\n",
       "      <td>0.0</td>\n",
       "      <td>0.0</td>\n",
       "      <td>0.0</td>\n",
       "    </tr>\n",
       "    <tr>\n",
       "      <th>1</th>\n",
       "      <td>0.0</td>\n",
       "      <td>0.0</td>\n",
       "      <td>0.0</td>\n",
       "      <td>0.0</td>\n",
       "      <td>0.0</td>\n",
       "      <td>0.0</td>\n",
       "      <td>0.0</td>\n",
       "      <td>0.0</td>\n",
       "      <td>0.0</td>\n",
       "      <td>0.0</td>\n",
       "      <td>...</td>\n",
       "      <td>0.0</td>\n",
       "      <td>0.0</td>\n",
       "      <td>0.0</td>\n",
       "      <td>0.0</td>\n",
       "      <td>0.0</td>\n",
       "      <td>0.0</td>\n",
       "      <td>0.0</td>\n",
       "      <td>0.0</td>\n",
       "      <td>0.0</td>\n",
       "      <td>0.0</td>\n",
       "    </tr>\n",
       "    <tr>\n",
       "      <th>2</th>\n",
       "      <td>0.0</td>\n",
       "      <td>0.0</td>\n",
       "      <td>0.0</td>\n",
       "      <td>0.0</td>\n",
       "      <td>0.0</td>\n",
       "      <td>0.0</td>\n",
       "      <td>0.0</td>\n",
       "      <td>0.0</td>\n",
       "      <td>0.0</td>\n",
       "      <td>0.0</td>\n",
       "      <td>...</td>\n",
       "      <td>0.0</td>\n",
       "      <td>0.0</td>\n",
       "      <td>0.0</td>\n",
       "      <td>0.0</td>\n",
       "      <td>0.0</td>\n",
       "      <td>0.0</td>\n",
       "      <td>0.0</td>\n",
       "      <td>0.0</td>\n",
       "      <td>0.0</td>\n",
       "      <td>0.0</td>\n",
       "    </tr>\n",
       "    <tr>\n",
       "      <th>3</th>\n",
       "      <td>0.0</td>\n",
       "      <td>0.0</td>\n",
       "      <td>0.0</td>\n",
       "      <td>0.0</td>\n",
       "      <td>0.0</td>\n",
       "      <td>0.0</td>\n",
       "      <td>0.0</td>\n",
       "      <td>0.0</td>\n",
       "      <td>0.0</td>\n",
       "      <td>0.0</td>\n",
       "      <td>...</td>\n",
       "      <td>0.0</td>\n",
       "      <td>0.0</td>\n",
       "      <td>0.0</td>\n",
       "      <td>0.0</td>\n",
       "      <td>0.0</td>\n",
       "      <td>0.0</td>\n",
       "      <td>0.0</td>\n",
       "      <td>0.0</td>\n",
       "      <td>0.0</td>\n",
       "      <td>0.0</td>\n",
       "    </tr>\n",
       "    <tr>\n",
       "      <th>4</th>\n",
       "      <td>0.0</td>\n",
       "      <td>0.0</td>\n",
       "      <td>0.0</td>\n",
       "      <td>0.0</td>\n",
       "      <td>0.0</td>\n",
       "      <td>0.0</td>\n",
       "      <td>0.0</td>\n",
       "      <td>0.0</td>\n",
       "      <td>0.0</td>\n",
       "      <td>0.0</td>\n",
       "      <td>...</td>\n",
       "      <td>0.0</td>\n",
       "      <td>0.0</td>\n",
       "      <td>0.0</td>\n",
       "      <td>0.0</td>\n",
       "      <td>0.0</td>\n",
       "      <td>0.0</td>\n",
       "      <td>0.0</td>\n",
       "      <td>0.0</td>\n",
       "      <td>0.0</td>\n",
       "      <td>0.0</td>\n",
       "    </tr>\n",
       "  </tbody>\n",
       "</table>\n",
       "<p>5 rows × 1000 columns</p>\n",
       "</div>"
      ],
      "text/plain": [
       "   000   10  100   11   12   13   15   20  2016  2018  ...  wrong   xi  year  \\\n",
       "0  0.0  0.0  0.0  0.0  0.0  0.0  0.0  0.0   0.0   0.0  ...    0.0  0.0   0.0   \n",
       "1  0.0  0.0  0.0  0.0  0.0  0.0  0.0  0.0   0.0   0.0  ...    0.0  0.0   0.0   \n",
       "2  0.0  0.0  0.0  0.0  0.0  0.0  0.0  0.0   0.0   0.0  ...    0.0  0.0   0.0   \n",
       "3  0.0  0.0  0.0  0.0  0.0  0.0  0.0  0.0   0.0   0.0  ...    0.0  0.0   0.0   \n",
       "4  0.0  0.0  0.0  0.0  0.0  0.0  0.0  0.0   0.0   0.0  ...    0.0  0.0   0.0   \n",
       "\n",
       "   years  yemen  yet  york  young   yr  zimbabwe  \n",
       "0    0.0    0.0  0.0   0.0    0.0  0.0       0.0  \n",
       "1    0.0    0.0  0.0   0.0    0.0  0.0       0.0  \n",
       "2    0.0    0.0  0.0   0.0    0.0  0.0       0.0  \n",
       "3    0.0    0.0  0.0   0.0    0.0  0.0       0.0  \n",
       "4    0.0    0.0  0.0   0.0    0.0  0.0       0.0  \n",
       "\n",
       "[5 rows x 1000 columns]"
      ]
     },
     "execution_count": 25,
     "metadata": {},
     "output_type": "execute_result"
    }
   ],
   "source": [
    "test_df.head()"
   ]
  },
  {
   "cell_type": "code",
   "execution_count": 26,
   "metadata": {},
   "outputs": [],
   "source": [
    "#Prepare the data using text\n",
    "X_text = data.text\n",
    "y_text = data.label"
   ]
  },
  {
   "cell_type": "code",
   "execution_count": 27,
   "metadata": {},
   "outputs": [],
   "source": [
    "X_train1, X_test1, y_train1, y_test1 = train_test_split(X_text,y_text, test_size = 0.33, random_state = 42)"
   ]
  },
  {
   "cell_type": "code",
   "execution_count": 28,
   "metadata": {},
   "outputs": [
    {
     "data": {
      "text/plain": [
       "TfidfVectorizer(analyzer='word', binary=False, decode_error='strict',\n",
       "                dtype=<class 'numpy.float64'>, encoding='utf-8',\n",
       "                input='content', lowercase=True, max_df=0.9, max_features=4000,\n",
       "                min_df=2, ngram_range=(1, 1), norm='l2', preprocessor=None,\n",
       "                smooth_idf=True, stop_words=None, strip_accents=None,\n",
       "                sublinear_tf=False, token_pattern='(?u)\\\\b\\\\w\\\\w+\\\\b',\n",
       "                tokenizer=None, use_idf=True, vocabulary=None)"
      ]
     },
     "execution_count": 28,
     "metadata": {},
     "output_type": "execute_result"
    }
   ],
   "source": [
    "tvec = TfidfVectorizer(min_df = 2, max_df = 0.90, max_features = 4000)\n",
    "tvec.fit(X_train1)"
   ]
  },
  {
   "cell_type": "code",
   "execution_count": 29,
   "metadata": {},
   "outputs": [],
   "source": [
    "#convert the transform to dataframe\n",
    "train_df1 = pd.DataFrame(tvec.transform(X_train1).todense(),columns = tvec.get_feature_names())"
   ]
  },
  {
   "cell_type": "code",
   "execution_count": 30,
   "metadata": {},
   "outputs": [],
   "source": [
    "test_df1 = pd.DataFrame(tvec.transform(X_test1).todense(),columns = tvec.get_feature_names())"
   ]
  },
  {
   "cell_type": "code",
   "execution_count": 31,
   "metadata": {},
   "outputs": [],
   "source": [
    "#concatanate the text and title df\n",
    "train = pd.concat([train_df,train_df1],axis = 1)\n",
    "test = pd.concat([test_df,test_df1],axis = 1)"
   ]
  },
  {
   "cell_type": "code",
   "execution_count": 32,
   "metadata": {},
   "outputs": [
    {
     "data": {
      "text/html": [
       "<div>\n",
       "<style scoped>\n",
       "    .dataframe tbody tr th:only-of-type {\n",
       "        vertical-align: middle;\n",
       "    }\n",
       "\n",
       "    .dataframe tbody tr th {\n",
       "        vertical-align: top;\n",
       "    }\n",
       "\n",
       "    .dataframe thead th {\n",
       "        text-align: right;\n",
       "    }\n",
       "</style>\n",
       "<table border=\"1\" class=\"dataframe\">\n",
       "  <thead>\n",
       "    <tr style=\"text-align: right;\">\n",
       "      <th></th>\n",
       "      <th>000</th>\n",
       "      <th>10</th>\n",
       "      <th>100</th>\n",
       "      <th>11</th>\n",
       "      <th>12</th>\n",
       "      <th>13</th>\n",
       "      <th>15</th>\n",
       "      <th>20</th>\n",
       "      <th>2016</th>\n",
       "      <th>2018</th>\n",
       "      <th>...</th>\n",
       "      <th>younger</th>\n",
       "      <th>youth</th>\n",
       "      <th>youtube</th>\n",
       "      <th>zealand</th>\n",
       "      <th>zero</th>\n",
       "      <th>zika</th>\n",
       "      <th>zimbabwe</th>\n",
       "      <th>zone</th>\n",
       "      <th>zones</th>\n",
       "      <th>zuma</th>\n",
       "    </tr>\n",
       "  </thead>\n",
       "  <tbody>\n",
       "    <tr>\n",
       "      <th>0</th>\n",
       "      <td>0.0</td>\n",
       "      <td>0.0</td>\n",
       "      <td>0.0</td>\n",
       "      <td>0.0</td>\n",
       "      <td>0.0</td>\n",
       "      <td>0.0</td>\n",
       "      <td>0.0</td>\n",
       "      <td>0.0</td>\n",
       "      <td>0.0</td>\n",
       "      <td>0.0</td>\n",
       "      <td>...</td>\n",
       "      <td>0.0</td>\n",
       "      <td>0.0</td>\n",
       "      <td>0.0</td>\n",
       "      <td>0.0</td>\n",
       "      <td>0.0</td>\n",
       "      <td>0.0</td>\n",
       "      <td>0.0</td>\n",
       "      <td>0.0</td>\n",
       "      <td>0.0</td>\n",
       "      <td>0.0</td>\n",
       "    </tr>\n",
       "    <tr>\n",
       "      <th>1</th>\n",
       "      <td>0.0</td>\n",
       "      <td>0.0</td>\n",
       "      <td>0.0</td>\n",
       "      <td>0.0</td>\n",
       "      <td>0.0</td>\n",
       "      <td>0.0</td>\n",
       "      <td>0.0</td>\n",
       "      <td>0.0</td>\n",
       "      <td>0.0</td>\n",
       "      <td>0.0</td>\n",
       "      <td>...</td>\n",
       "      <td>0.0</td>\n",
       "      <td>0.0</td>\n",
       "      <td>0.0</td>\n",
       "      <td>0.0</td>\n",
       "      <td>0.0</td>\n",
       "      <td>0.0</td>\n",
       "      <td>0.0</td>\n",
       "      <td>0.0</td>\n",
       "      <td>0.0</td>\n",
       "      <td>0.0</td>\n",
       "    </tr>\n",
       "    <tr>\n",
       "      <th>2</th>\n",
       "      <td>0.0</td>\n",
       "      <td>0.0</td>\n",
       "      <td>0.0</td>\n",
       "      <td>0.0</td>\n",
       "      <td>0.0</td>\n",
       "      <td>0.0</td>\n",
       "      <td>0.0</td>\n",
       "      <td>0.0</td>\n",
       "      <td>0.0</td>\n",
       "      <td>0.0</td>\n",
       "      <td>...</td>\n",
       "      <td>0.0</td>\n",
       "      <td>0.0</td>\n",
       "      <td>0.0</td>\n",
       "      <td>0.0</td>\n",
       "      <td>0.0</td>\n",
       "      <td>0.0</td>\n",
       "      <td>0.0</td>\n",
       "      <td>0.0</td>\n",
       "      <td>0.0</td>\n",
       "      <td>0.0</td>\n",
       "    </tr>\n",
       "    <tr>\n",
       "      <th>3</th>\n",
       "      <td>0.0</td>\n",
       "      <td>0.0</td>\n",
       "      <td>0.0</td>\n",
       "      <td>0.0</td>\n",
       "      <td>0.0</td>\n",
       "      <td>0.0</td>\n",
       "      <td>0.0</td>\n",
       "      <td>0.0</td>\n",
       "      <td>0.0</td>\n",
       "      <td>0.0</td>\n",
       "      <td>...</td>\n",
       "      <td>0.0</td>\n",
       "      <td>0.0</td>\n",
       "      <td>0.0</td>\n",
       "      <td>0.0</td>\n",
       "      <td>0.0</td>\n",
       "      <td>0.0</td>\n",
       "      <td>0.0</td>\n",
       "      <td>0.0</td>\n",
       "      <td>0.0</td>\n",
       "      <td>0.0</td>\n",
       "    </tr>\n",
       "    <tr>\n",
       "      <th>4</th>\n",
       "      <td>0.0</td>\n",
       "      <td>0.0</td>\n",
       "      <td>0.0</td>\n",
       "      <td>0.0</td>\n",
       "      <td>0.0</td>\n",
       "      <td>0.0</td>\n",
       "      <td>0.0</td>\n",
       "      <td>0.0</td>\n",
       "      <td>0.0</td>\n",
       "      <td>0.0</td>\n",
       "      <td>...</td>\n",
       "      <td>0.0</td>\n",
       "      <td>0.0</td>\n",
       "      <td>0.0</td>\n",
       "      <td>0.0</td>\n",
       "      <td>0.0</td>\n",
       "      <td>0.0</td>\n",
       "      <td>0.0</td>\n",
       "      <td>0.0</td>\n",
       "      <td>0.0</td>\n",
       "      <td>0.0</td>\n",
       "    </tr>\n",
       "  </tbody>\n",
       "</table>\n",
       "<p>5 rows × 5000 columns</p>\n",
       "</div>"
      ],
      "text/plain": [
       "   000   10  100   11   12   13   15   20  2016  2018  ...  younger  youth  \\\n",
       "0  0.0  0.0  0.0  0.0  0.0  0.0  0.0  0.0   0.0   0.0  ...      0.0    0.0   \n",
       "1  0.0  0.0  0.0  0.0  0.0  0.0  0.0  0.0   0.0   0.0  ...      0.0    0.0   \n",
       "2  0.0  0.0  0.0  0.0  0.0  0.0  0.0  0.0   0.0   0.0  ...      0.0    0.0   \n",
       "3  0.0  0.0  0.0  0.0  0.0  0.0  0.0  0.0   0.0   0.0  ...      0.0    0.0   \n",
       "4  0.0  0.0  0.0  0.0  0.0  0.0  0.0  0.0   0.0   0.0  ...      0.0    0.0   \n",
       "\n",
       "   youtube  zealand  zero  zika  zimbabwe  zone  zones  zuma  \n",
       "0      0.0      0.0   0.0   0.0       0.0   0.0    0.0   0.0  \n",
       "1      0.0      0.0   0.0   0.0       0.0   0.0    0.0   0.0  \n",
       "2      0.0      0.0   0.0   0.0       0.0   0.0    0.0   0.0  \n",
       "3      0.0      0.0   0.0   0.0       0.0   0.0    0.0   0.0  \n",
       "4      0.0      0.0   0.0   0.0       0.0   0.0    0.0   0.0  \n",
       "\n",
       "[5 rows x 5000 columns]"
      ]
     },
     "execution_count": 32,
     "metadata": {},
     "output_type": "execute_result"
    }
   ],
   "source": [
    "train.head()"
   ]
  },
  {
   "cell_type": "code",
   "execution_count": 33,
   "metadata": {
    "scrolled": true
   },
   "outputs": [
    {
     "data": {
      "text/html": [
       "<div>\n",
       "<style scoped>\n",
       "    .dataframe tbody tr th:only-of-type {\n",
       "        vertical-align: middle;\n",
       "    }\n",
       "\n",
       "    .dataframe tbody tr th {\n",
       "        vertical-align: top;\n",
       "    }\n",
       "\n",
       "    .dataframe thead th {\n",
       "        text-align: right;\n",
       "    }\n",
       "</style>\n",
       "<table border=\"1\" class=\"dataframe\">\n",
       "  <thead>\n",
       "    <tr style=\"text-align: right;\">\n",
       "      <th></th>\n",
       "      <th>000</th>\n",
       "      <th>10</th>\n",
       "      <th>100</th>\n",
       "      <th>11</th>\n",
       "      <th>12</th>\n",
       "      <th>13</th>\n",
       "      <th>15</th>\n",
       "      <th>20</th>\n",
       "      <th>2016</th>\n",
       "      <th>2018</th>\n",
       "      <th>...</th>\n",
       "      <th>younger</th>\n",
       "      <th>youth</th>\n",
       "      <th>youtube</th>\n",
       "      <th>zealand</th>\n",
       "      <th>zero</th>\n",
       "      <th>zika</th>\n",
       "      <th>zimbabwe</th>\n",
       "      <th>zone</th>\n",
       "      <th>zones</th>\n",
       "      <th>zuma</th>\n",
       "    </tr>\n",
       "  </thead>\n",
       "  <tbody>\n",
       "    <tr>\n",
       "      <th>0</th>\n",
       "      <td>0.0</td>\n",
       "      <td>0.0</td>\n",
       "      <td>0.0</td>\n",
       "      <td>0.0</td>\n",
       "      <td>0.0</td>\n",
       "      <td>0.0</td>\n",
       "      <td>0.0</td>\n",
       "      <td>0.0</td>\n",
       "      <td>0.0</td>\n",
       "      <td>0.0</td>\n",
       "      <td>...</td>\n",
       "      <td>0.0</td>\n",
       "      <td>0.0</td>\n",
       "      <td>0.0</td>\n",
       "      <td>0.0</td>\n",
       "      <td>0.0</td>\n",
       "      <td>0.0</td>\n",
       "      <td>0.0</td>\n",
       "      <td>0.0</td>\n",
       "      <td>0.0</td>\n",
       "      <td>0.0</td>\n",
       "    </tr>\n",
       "    <tr>\n",
       "      <th>1</th>\n",
       "      <td>0.0</td>\n",
       "      <td>0.0</td>\n",
       "      <td>0.0</td>\n",
       "      <td>0.0</td>\n",
       "      <td>0.0</td>\n",
       "      <td>0.0</td>\n",
       "      <td>0.0</td>\n",
       "      <td>0.0</td>\n",
       "      <td>0.0</td>\n",
       "      <td>0.0</td>\n",
       "      <td>...</td>\n",
       "      <td>0.0</td>\n",
       "      <td>0.0</td>\n",
       "      <td>0.0</td>\n",
       "      <td>0.0</td>\n",
       "      <td>0.0</td>\n",
       "      <td>0.0</td>\n",
       "      <td>0.0</td>\n",
       "      <td>0.0</td>\n",
       "      <td>0.0</td>\n",
       "      <td>0.0</td>\n",
       "    </tr>\n",
       "    <tr>\n",
       "      <th>2</th>\n",
       "      <td>0.0</td>\n",
       "      <td>0.0</td>\n",
       "      <td>0.0</td>\n",
       "      <td>0.0</td>\n",
       "      <td>0.0</td>\n",
       "      <td>0.0</td>\n",
       "      <td>0.0</td>\n",
       "      <td>0.0</td>\n",
       "      <td>0.0</td>\n",
       "      <td>0.0</td>\n",
       "      <td>...</td>\n",
       "      <td>0.0</td>\n",
       "      <td>0.0</td>\n",
       "      <td>0.0</td>\n",
       "      <td>0.0</td>\n",
       "      <td>0.0</td>\n",
       "      <td>0.0</td>\n",
       "      <td>0.0</td>\n",
       "      <td>0.0</td>\n",
       "      <td>0.0</td>\n",
       "      <td>0.0</td>\n",
       "    </tr>\n",
       "    <tr>\n",
       "      <th>3</th>\n",
       "      <td>0.0</td>\n",
       "      <td>0.0</td>\n",
       "      <td>0.0</td>\n",
       "      <td>0.0</td>\n",
       "      <td>0.0</td>\n",
       "      <td>0.0</td>\n",
       "      <td>0.0</td>\n",
       "      <td>0.0</td>\n",
       "      <td>0.0</td>\n",
       "      <td>0.0</td>\n",
       "      <td>...</td>\n",
       "      <td>0.0</td>\n",
       "      <td>0.0</td>\n",
       "      <td>0.0</td>\n",
       "      <td>0.0</td>\n",
       "      <td>0.0</td>\n",
       "      <td>0.0</td>\n",
       "      <td>0.0</td>\n",
       "      <td>0.0</td>\n",
       "      <td>0.0</td>\n",
       "      <td>0.0</td>\n",
       "    </tr>\n",
       "    <tr>\n",
       "      <th>4</th>\n",
       "      <td>0.0</td>\n",
       "      <td>0.0</td>\n",
       "      <td>0.0</td>\n",
       "      <td>0.0</td>\n",
       "      <td>0.0</td>\n",
       "      <td>0.0</td>\n",
       "      <td>0.0</td>\n",
       "      <td>0.0</td>\n",
       "      <td>0.0</td>\n",
       "      <td>0.0</td>\n",
       "      <td>...</td>\n",
       "      <td>0.0</td>\n",
       "      <td>0.0</td>\n",
       "      <td>0.0</td>\n",
       "      <td>0.0</td>\n",
       "      <td>0.0</td>\n",
       "      <td>0.0</td>\n",
       "      <td>0.0</td>\n",
       "      <td>0.0</td>\n",
       "      <td>0.0</td>\n",
       "      <td>0.0</td>\n",
       "    </tr>\n",
       "  </tbody>\n",
       "</table>\n",
       "<p>5 rows × 5000 columns</p>\n",
       "</div>"
      ],
      "text/plain": [
       "   000   10  100   11   12   13   15   20  2016  2018  ...  younger  youth  \\\n",
       "0  0.0  0.0  0.0  0.0  0.0  0.0  0.0  0.0   0.0   0.0  ...      0.0    0.0   \n",
       "1  0.0  0.0  0.0  0.0  0.0  0.0  0.0  0.0   0.0   0.0  ...      0.0    0.0   \n",
       "2  0.0  0.0  0.0  0.0  0.0  0.0  0.0  0.0   0.0   0.0  ...      0.0    0.0   \n",
       "3  0.0  0.0  0.0  0.0  0.0  0.0  0.0  0.0   0.0   0.0  ...      0.0    0.0   \n",
       "4  0.0  0.0  0.0  0.0  0.0  0.0  0.0  0.0   0.0   0.0  ...      0.0    0.0   \n",
       "\n",
       "   youtube  zealand  zero  zika  zimbabwe  zone  zones  zuma  \n",
       "0      0.0      0.0   0.0   0.0       0.0   0.0    0.0   0.0  \n",
       "1      0.0      0.0   0.0   0.0       0.0   0.0    0.0   0.0  \n",
       "2      0.0      0.0   0.0   0.0       0.0   0.0    0.0   0.0  \n",
       "3      0.0      0.0   0.0   0.0       0.0   0.0    0.0   0.0  \n",
       "4      0.0      0.0   0.0   0.0       0.0   0.0    0.0   0.0  \n",
       "\n",
       "[5 rows x 5000 columns]"
      ]
     },
     "execution_count": 33,
     "metadata": {},
     "output_type": "execute_result"
    }
   ],
   "source": [
    "test.head()"
   ]
  },
  {
   "cell_type": "code",
   "execution_count": 34,
   "metadata": {},
   "outputs": [
    {
     "name": "stderr",
     "output_type": "stream",
     "text": [
      "/Users/admin/opt/anaconda3/lib/python3.7/site-packages/sklearn/utils/deprecation.py:144: FutureWarning: The sklearn.feature_selection.univariate_selection module is  deprecated in version 0.22 and will be removed in version 0.24. The corresponding classes / functions should instead be imported from sklearn.feature_selection. Anything that cannot be imported from sklearn.feature_selection is now part of the private API.\n",
      "  warnings.warn(message, FutureWarning)\n"
     ]
    }
   ],
   "source": [
    "from sklearn.feature_selection.univariate_selection import SelectKBest, chi2, f_classif\n",
    "fselect = SelectKBest(chi2 , k = 1000)\n",
    "train_features = fselect.fit_transform(train, y_train1)\n",
    "test_features = fselect.transform(test)"
   ]
  },
  {
   "cell_type": "code",
   "execution_count": 35,
   "metadata": {
    "scrolled": true
   },
   "outputs": [],
   "source": [
    "#remove duplicate features\n",
    "train = train.loc[:,~train.columns.duplicated()]"
   ]
  },
  {
   "cell_type": "code",
   "execution_count": 36,
   "metadata": {},
   "outputs": [],
   "source": [
    "test = test.loc[:,~test.columns.duplicated()]"
   ]
  },
  {
   "cell_type": "markdown",
   "metadata": {},
   "source": [
    "## Logistic Regression"
   ]
  },
  {
   "cell_type": "code",
   "execution_count": 37,
   "metadata": {},
   "outputs": [],
   "source": [
    "def plot_confusion_matrix(cm, target_names, title='Confusion Matrix', cmap=plt.cm.Blues):\n",
    "    plt.imshow(cm, interpolation='nearest', cmap=cmap)\n",
    "    plt.title(title)\n",
    "    plt.colorbar()\n",
    "    tick_marks = np.arange(len(target_names))\n",
    "    plt.xticks(tick_marks, target_names, rotation=45)\n",
    "    plt.yticks(tick_marks, target_names)\n",
    "    plt.tight_layout()\n",
    "\n",
    "    width, height = cm.shape\n",
    "\n",
    "    for x in range(width):\n",
    "        for y in range(height):\n",
    "            plt.annotate(str(cm[x][y]), xy=(y, x), \n",
    "                        horizontalalignment='center',\n",
    "                        verticalalignment='center')\n",
    "    plt.ylabel('True Label')\n",
    "    plt.xlabel('Predicted Label')"
   ]
  },
  {
   "cell_type": "code",
   "execution_count": 38,
   "metadata": {},
   "outputs": [
    {
     "data": {
      "text/plain": [
       "LogisticRegression(C=0.0015, class_weight=None, dual=False, fit_intercept=True,\n",
       "                   intercept_scaling=1, l1_ratio=None, max_iter=100,\n",
       "                   multi_class='auto', n_jobs=None, penalty='l2',\n",
       "                   random_state=0, solver='liblinear', tol=0.0001, verbose=0,\n",
       "                   warm_start=False)"
      ]
     },
     "execution_count": 38,
     "metadata": {},
     "output_type": "execute_result"
    }
   ],
   "source": [
    "clf = LogisticRegression(C = 0.0015,random_state = 0,solver='liblinear', penalty='l2')\n",
    "clf.fit(train,y_train1)"
   ]
  },
  {
   "cell_type": "code",
   "execution_count": 105,
   "metadata": {},
   "outputs": [],
   "source": [
    "#predict for test values\n",
    "lr_pred = clf.predict(test)"
   ]
  },
  {
   "cell_type": "code",
   "execution_count": 106,
   "metadata": {},
   "outputs": [
    {
     "name": "stdout",
     "output_type": "stream",
     "text": [
      "[0 0 0 ... 0 1 1]\n"
     ]
    }
   ],
   "source": [
    "print(lr_pred)"
   ]
  },
  {
   "cell_type": "code",
   "execution_count": 107,
   "metadata": {},
   "outputs": [
    {
     "name": "stdout",
     "output_type": "stream",
     "text": [
      "The accuracy of the Logistic Regression Model is 83.23\n"
     ]
    }
   ],
   "source": [
    "#accuracy score\n",
    "accuracy_score(lr_pred,y_test)\n",
    "print(\"The accuracy of the Logistic Regression Model is\", round(accuracy_score(lr_pred, y_test)*100,2))"
   ]
  },
  {
   "cell_type": "code",
   "execution_count": 101,
   "metadata": {},
   "outputs": [
    {
     "data": {
      "text/plain": [
       "0    7711\n",
       "1    7106\n",
       "Name: label, dtype: int64"
      ]
     },
     "execution_count": 101,
     "metadata": {},
     "output_type": "execute_result"
    }
   ],
   "source": [
    "y_test.value_counts()"
   ]
  },
  {
   "cell_type": "code",
   "execution_count": 108,
   "metadata": {},
   "outputs": [
    {
     "data": {
      "image/png": "[encoded data removed]",
      "text/plain": [
       "<Figure size 432x288 with 2 Axes>"
      ]
     },
     "metadata": {
      "needs_background": "light"
     },
     "output_type": "display_data"
    }
   ],
   "source": [
    "#confusion matrix\n",
    "lr_res = confusion_matrix(y_test, lr_pred)\n",
    "plot_confusion_matrix(lr_res, ['Fake','Real'])"
   ]
  },
  {
   "cell_type": "code",
   "execution_count": 103,
   "metadata": {},
   "outputs": [
    {
     "data": {
      "text/plain": [
       "array([[7652,   59],\n",
       "       [2426, 4680]])"
      ]
     },
     "execution_count": 103,
     "metadata": {},
     "output_type": "execute_result"
    }
   ],
   "source": [
    "from sklearn.metrics import confusion_matrix\n",
    "confusion_matrix(y_test, lr_pred)"
   ]
  },
  {
   "cell_type": "code",
   "execution_count": 104,
   "metadata": {},
   "outputs": [
    {
     "name": "stdout",
     "output_type": "stream",
     "text": [
      "              precision    recall  f1-score   support\n",
      "\n",
      "        Fake       0.76      0.99      0.86      7711\n",
      "        Real       0.99      0.66      0.79      7106\n",
      "\n",
      "    accuracy                           0.83     14817\n",
      "   macro avg       0.87      0.83      0.83     14817\n",
      "weighted avg       0.87      0.83      0.83     14817\n",
      "\n"
     ]
    }
   ],
   "source": [
    "from sklearn.metrics import classification_report\n",
    "print(classification_report(y_test, lr_pred, target_names=[\"Fake\", \"Real\"]))"
   ]
  },
  {
   "cell_type": "markdown",
   "metadata": {},
   "source": [
    "## XGBoost Classifier"
   ]
  },
  {
   "cell_type": "code",
   "execution_count": 87,
   "metadata": {},
   "outputs": [],
   "source": [
    "xgb_model = XGBClassifier(learning_rate = 0.01, gamma = 1, n_estimators = 200)\n"
   ]
  },
  {
   "cell_type": "code",
   "execution_count": 88,
   "metadata": {},
   "outputs": [
    {
     "name": "stdout",
     "output_type": "stream",
     "text": [
      "[0]\tvalidation_0-error:0.134869\tvalidation_1-error:0.131808\n",
      "[1]\tvalidation_0-error:0.134869\tvalidation_1-error:0.131808\n",
      "[2]\tvalidation_0-error:0.134869\tvalidation_1-error:0.131808\n",
      "[3]\tvalidation_0-error:0.134869\tvalidation_1-error:0.131808\n",
      "[4]\tvalidation_0-error:0.134869\tvalidation_1-error:0.131808\n",
      "[5]\tvalidation_0-error:0.135202\tvalidation_1-error:0.131943\n",
      "[6]\tvalidation_0-error:0.135202\tvalidation_1-error:0.131943\n",
      "[7]\tvalidation_0-error:0.135202\tvalidation_1-error:0.131943\n",
      "[8]\tvalidation_0-error:0.135202\tvalidation_1-error:0.131943\n",
      "[9]\tvalidation_0-error:0.135202\tvalidation_1-error:0.131943\n",
      "[10]\tvalidation_0-error:0.135202\tvalidation_1-error:0.131943\n",
      "[11]\tvalidation_0-error:0.135202\tvalidation_1-error:0.131943\n",
      "[12]\tvalidation_0-error:0.135202\tvalidation_1-error:0.131943\n",
      "[13]\tvalidation_0-error:0.135202\tvalidation_1-error:0.131943\n",
      "[14]\tvalidation_0-error:0.135202\tvalidation_1-error:0.131943\n",
      "[15]\tvalidation_0-error:0.135202\tvalidation_1-error:0.131943\n",
      "[16]\tvalidation_0-error:0.135202\tvalidation_1-error:0.131943\n",
      "[17]\tvalidation_0-error:0.135202\tvalidation_1-error:0.131943\n",
      "[18]\tvalidation_0-error:0.135202\tvalidation_1-error:0.131943\n",
      "[19]\tvalidation_0-error:0.135202\tvalidation_1-error:0.131943\n",
      "[20]\tvalidation_0-error:0.135202\tvalidation_1-error:0.131943\n",
      "[21]\tvalidation_0-error:0.135202\tvalidation_1-error:0.131943\n",
      "[22]\tvalidation_0-error:0.135202\tvalidation_1-error:0.131943\n",
      "[23]\tvalidation_0-error:0.135202\tvalidation_1-error:0.131943\n",
      "[24]\tvalidation_0-error:0.135202\tvalidation_1-error:0.131943\n",
      "[25]\tvalidation_0-error:0.135202\tvalidation_1-error:0.131943\n",
      "[26]\tvalidation_0-error:0.135202\tvalidation_1-error:0.131943\n",
      "[27]\tvalidation_0-error:0.135202\tvalidation_1-error:0.131943\n",
      "[28]\tvalidation_0-error:0.135202\tvalidation_1-error:0.131943\n",
      "[29]\tvalidation_0-error:0.135202\tvalidation_1-error:0.131943\n",
      "[30]\tvalidation_0-error:0.135202\tvalidation_1-error:0.131943\n",
      "[31]\tvalidation_0-error:0.135202\tvalidation_1-error:0.131943\n",
      "[32]\tvalidation_0-error:0.135202\tvalidation_1-error:0.131943\n",
      "[33]\tvalidation_0-error:0.135202\tvalidation_1-error:0.131943\n",
      "[34]\tvalidation_0-error:0.130847\tvalidation_1-error:0.128434\n",
      "[35]\tvalidation_0-error:0.130847\tvalidation_1-error:0.128434\n",
      "[36]\tvalidation_0-error:0.135168\tvalidation_1-error:0.131876\n",
      "[37]\tvalidation_0-error:0.130847\tvalidation_1-error:0.128434\n",
      "[38]\tvalidation_0-error:0.130847\tvalidation_1-error:0.128434\n",
      "[39]\tvalidation_0-error:0.130847\tvalidation_1-error:0.128434\n",
      "[40]\tvalidation_0-error:0.130847\tvalidation_1-error:0.128434\n",
      "[41]\tvalidation_0-error:0.13088\tvalidation_1-error:0.128434\n",
      "[42]\tvalidation_0-error:0.13088\tvalidation_1-error:0.128434\n",
      "[43]\tvalidation_0-error:0.129218\tvalidation_1-error:0.126679\n",
      "[44]\tvalidation_0-error:0.129218\tvalidation_1-error:0.126679\n",
      "[45]\tvalidation_0-error:0.13088\tvalidation_1-error:0.128434\n",
      "[46]\tvalidation_0-error:0.129218\tvalidation_1-error:0.126679\n",
      "[47]\tvalidation_0-error:0.129218\tvalidation_1-error:0.126679\n",
      "[48]\tvalidation_0-error:0.129218\tvalidation_1-error:0.126679\n",
      "[49]\tvalidation_0-error:0.129218\tvalidation_1-error:0.126679\n",
      "[50]\tvalidation_0-error:0.129218\tvalidation_1-error:0.126679\n",
      "[51]\tvalidation_0-error:0.129218\tvalidation_1-error:0.126679\n",
      "[52]\tvalidation_0-error:0.129218\tvalidation_1-error:0.126679\n",
      "[53]\tvalidation_0-error:0.129218\tvalidation_1-error:0.126679\n",
      "[54]\tvalidation_0-error:0.129218\tvalidation_1-error:0.126679\n",
      "[55]\tvalidation_0-error:0.129218\tvalidation_1-error:0.126679\n",
      "[56]\tvalidation_0-error:0.129218\tvalidation_1-error:0.126679\n",
      "[57]\tvalidation_0-error:0.129218\tvalidation_1-error:0.126679\n",
      "[58]\tvalidation_0-error:0.129218\tvalidation_1-error:0.126679\n",
      "[59]\tvalidation_0-error:0.129218\tvalidation_1-error:0.126679\n",
      "[60]\tvalidation_0-error:0.129218\tvalidation_1-error:0.126679\n",
      "[61]\tvalidation_0-error:0.129218\tvalidation_1-error:0.126679\n",
      "[62]\tvalidation_0-error:0.129218\tvalidation_1-error:0.126679\n",
      "[63]\tvalidation_0-error:0.129218\tvalidation_1-error:0.126679\n",
      "[64]\tvalidation_0-error:0.129218\tvalidation_1-error:0.126679\n",
      "[65]\tvalidation_0-error:0.129218\tvalidation_1-error:0.126679\n",
      "[66]\tvalidation_0-error:0.129218\tvalidation_1-error:0.126679\n",
      "[67]\tvalidation_0-error:0.129218\tvalidation_1-error:0.126679\n",
      "[68]\tvalidation_0-error:0.129218\tvalidation_1-error:0.126679\n",
      "[69]\tvalidation_0-error:0.129218\tvalidation_1-error:0.126679\n",
      "[70]\tvalidation_0-error:0.129218\tvalidation_1-error:0.126679\n",
      "[71]\tvalidation_0-error:0.129052\tvalidation_1-error:0.126611\n",
      "[72]\tvalidation_0-error:0.129052\tvalidation_1-error:0.126611\n",
      "[73]\tvalidation_0-error:0.129052\tvalidation_1-error:0.126611\n",
      "[74]\tvalidation_0-error:0.129052\tvalidation_1-error:0.126611\n",
      "[75]\tvalidation_0-error:0.129052\tvalidation_1-error:0.126611\n",
      "[76]\tvalidation_0-error:0.129052\tvalidation_1-error:0.126611\n",
      "[77]\tvalidation_0-error:0.129052\tvalidation_1-error:0.126611\n",
      "[78]\tvalidation_0-error:0.129052\tvalidation_1-error:0.126611\n",
      "[79]\tvalidation_0-error:0.129052\tvalidation_1-error:0.126611\n",
      "[80]\tvalidation_0-error:0.129052\tvalidation_1-error:0.126611\n",
      "[81]\tvalidation_0-error:0.129052\tvalidation_1-error:0.126611\n",
      "[82]\tvalidation_0-error:0.129052\tvalidation_1-error:0.126611\n",
      "[83]\tvalidation_0-error:0.129052\tvalidation_1-error:0.126611\n",
      "[84]\tvalidation_0-error:0.129052\tvalidation_1-error:0.126611\n",
      "[85]\tvalidation_0-error:0.129052\tvalidation_1-error:0.126611\n",
      "[86]\tvalidation_0-error:0.129052\tvalidation_1-error:0.126611\n",
      "[87]\tvalidation_0-error:0.129052\tvalidation_1-error:0.126611\n",
      "[88]\tvalidation_0-error:0.129052\tvalidation_1-error:0.126611\n",
      "[89]\tvalidation_0-error:0.129052\tvalidation_1-error:0.126611\n",
      "[90]\tvalidation_0-error:0.129052\tvalidation_1-error:0.126611\n",
      "[91]\tvalidation_0-error:0.129018\tvalidation_1-error:0.126611\n",
      "[92]\tvalidation_0-error:0.129018\tvalidation_1-error:0.126611\n",
      "[93]\tvalidation_0-error:0.129018\tvalidation_1-error:0.126611\n",
      "[94]\tvalidation_0-error:0.129018\tvalidation_1-error:0.126611\n",
      "[95]\tvalidation_0-error:0.129018\tvalidation_1-error:0.126611\n",
      "[96]\tvalidation_0-error:0.129018\tvalidation_1-error:0.126611\n",
      "[97]\tvalidation_0-error:0.129018\tvalidation_1-error:0.126611\n",
      "[98]\tvalidation_0-error:0.129018\tvalidation_1-error:0.126611\n",
      "[99]\tvalidation_0-error:0.129018\tvalidation_1-error:0.126611\n",
      "[100]\tvalidation_0-error:0.129018\tvalidation_1-error:0.126611\n",
      "[101]\tvalidation_0-error:0.129018\tvalidation_1-error:0.126611\n",
      "[102]\tvalidation_0-error:0.129018\tvalidation_1-error:0.126611\n",
      "[103]\tvalidation_0-error:0.129018\tvalidation_1-error:0.126611\n",
      "[104]\tvalidation_0-error:0.112895\tvalidation_1-error:0.110954\n",
      "[105]\tvalidation_0-error:0.112895\tvalidation_1-error:0.110954\n",
      "[106]\tvalidation_0-error:0.112895\tvalidation_1-error:0.110954\n",
      "[107]\tvalidation_0-error:0.112895\tvalidation_1-error:0.110954\n",
      "[108]\tvalidation_0-error:0.111432\tvalidation_1-error:0.108726\n",
      "[109]\tvalidation_0-error:0.111432\tvalidation_1-error:0.108726\n",
      "[110]\tvalidation_0-error:0.111432\tvalidation_1-error:0.108726\n",
      "[111]\tvalidation_0-error:0.112895\tvalidation_1-error:0.110954\n",
      "[112]\tvalidation_0-error:0.111432\tvalidation_1-error:0.108726\n",
      "[113]\tvalidation_0-error:0.111432\tvalidation_1-error:0.108726\n",
      "[114]\tvalidation_0-error:0.124663\tvalidation_1-error:0.121145\n",
      "[115]\tvalidation_0-error:0.111432\tvalidation_1-error:0.108726\n",
      "[116]\tvalidation_0-error:0.111432\tvalidation_1-error:0.108726\n",
      "[117]\tvalidation_0-error:0.124663\tvalidation_1-error:0.121145\n",
      "[118]\tvalidation_0-error:0.111432\tvalidation_1-error:0.108726\n",
      "[119]\tvalidation_0-error:0.111432\tvalidation_1-error:0.108726\n",
      "[120]\tvalidation_0-error:0.124663\tvalidation_1-error:0.121145\n",
      "[121]\tvalidation_0-error:0.124663\tvalidation_1-error:0.121145\n",
      "[122]\tvalidation_0-error:0.111432\tvalidation_1-error:0.108726\n",
      "[123]\tvalidation_0-error:0.111432\tvalidation_1-error:0.108726\n",
      "[124]\tvalidation_0-error:0.124663\tvalidation_1-error:0.121145\n",
      "[125]\tvalidation_0-error:0.124663\tvalidation_1-error:0.121145\n",
      "[126]\tvalidation_0-error:0.111432\tvalidation_1-error:0.108726\n",
      "[127]\tvalidation_0-error:0.124663\tvalidation_1-error:0.121145\n",
      "[128]\tvalidation_0-error:0.12453\tvalidation_1-error:0.120807\n",
      "[129]\tvalidation_0-error:0.111299\tvalidation_1-error:0.108389\n",
      "[130]\tvalidation_0-error:0.111299\tvalidation_1-error:0.108389\n",
      "[131]\tvalidation_0-error:0.123733\tvalidation_1-error:0.120132\n",
      "[132]\tvalidation_0-error:0.09644\tvalidation_1-error:0.094284\n",
      "[133]\tvalidation_0-error:0.09644\tvalidation_1-error:0.094284\n",
      "[134]\tvalidation_0-error:0.109371\tvalidation_1-error:0.106499\n"
     ]
    },
    {
     "name": "stdout",
     "output_type": "stream",
     "text": [
      "[135]\tvalidation_0-error:0.109006\tvalidation_1-error:0.106297\n",
      "[136]\tvalidation_0-error:0.109006\tvalidation_1-error:0.106297\n",
      "[137]\tvalidation_0-error:0.096074\tvalidation_1-error:0.094081\n",
      "[138]\tvalidation_0-error:0.109006\tvalidation_1-error:0.106297\n",
      "[139]\tvalidation_0-error:0.108574\tvalidation_1-error:0.105824\n",
      "[140]\tvalidation_0-error:0.095642\tvalidation_1-error:0.093609\n",
      "[141]\tvalidation_0-error:0.108574\tvalidation_1-error:0.105757\n",
      "[142]\tvalidation_0-error:0.108574\tvalidation_1-error:0.105622\n",
      "[143]\tvalidation_0-error:0.107942\tvalidation_1-error:0.104947\n",
      "[144]\tvalidation_0-error:0.095642\tvalidation_1-error:0.093406\n",
      "[145]\tvalidation_0-error:0.107942\tvalidation_1-error:0.104947\n",
      "[146]\tvalidation_0-error:0.095642\tvalidation_1-error:0.093406\n",
      "[147]\tvalidation_0-error:0.095642\tvalidation_1-error:0.093406\n",
      "[148]\tvalidation_0-error:0.095642\tvalidation_1-error:0.093406\n",
      "[149]\tvalidation_0-error:0.095642\tvalidation_1-error:0.093406\n",
      "[150]\tvalidation_0-error:0.095642\tvalidation_1-error:0.093406\n",
      "[151]\tvalidation_0-error:0.095642\tvalidation_1-error:0.093406\n",
      "[152]\tvalidation_0-error:0.107942\tvalidation_1-error:0.104947\n",
      "[153]\tvalidation_0-error:0.095642\tvalidation_1-error:0.093406\n",
      "[154]\tvalidation_0-error:0.095642\tvalidation_1-error:0.093406\n",
      "[155]\tvalidation_0-error:0.094977\tvalidation_1-error:0.092394\n",
      "[156]\tvalidation_0-error:0.107942\tvalidation_1-error:0.104947\n",
      "[157]\tvalidation_0-error:0.107942\tvalidation_1-error:0.104947\n",
      "[158]\tvalidation_0-error:0.094977\tvalidation_1-error:0.092394\n",
      "[159]\tvalidation_0-error:0.094977\tvalidation_1-error:0.092394\n",
      "[160]\tvalidation_0-error:0.107277\tvalidation_1-error:0.103935\n",
      "[161]\tvalidation_0-error:0.094977\tvalidation_1-error:0.092394\n",
      "[162]\tvalidation_0-error:0.094977\tvalidation_1-error:0.092394\n",
      "[163]\tvalidation_0-error:0.094977\tvalidation_1-error:0.092394\n",
      "[164]\tvalidation_0-error:0.107277\tvalidation_1-error:0.103935\n",
      "[165]\tvalidation_0-error:0.107277\tvalidation_1-error:0.103935\n",
      "[166]\tvalidation_0-error:0.094811\tvalidation_1-error:0.092056\n",
      "[167]\tvalidation_0-error:0.094811\tvalidation_1-error:0.092056\n",
      "[168]\tvalidation_0-error:0.107111\tvalidation_1-error:0.103597\n",
      "[169]\tvalidation_0-error:0.094811\tvalidation_1-error:0.092056\n",
      "[170]\tvalidation_0-error:0.094811\tvalidation_1-error:0.092056\n",
      "[171]\tvalidation_0-error:0.094811\tvalidation_1-error:0.092056\n",
      "[172]\tvalidation_0-error:0.094811\tvalidation_1-error:0.092056\n",
      "[173]\tvalidation_0-error:0.094811\tvalidation_1-error:0.092056\n",
      "[174]\tvalidation_0-error:0.094711\tvalidation_1-error:0.092056\n",
      "[175]\tvalidation_0-error:0.106413\tvalidation_1-error:0.10326\n",
      "[176]\tvalidation_0-error:0.094678\tvalidation_1-error:0.091989\n",
      "[177]\tvalidation_0-error:0.094678\tvalidation_1-error:0.091989\n",
      "[178]\tvalidation_0-error:0.094678\tvalidation_1-error:0.091989\n",
      "[179]\tvalidation_0-error:0.094678\tvalidation_1-error:0.091989\n",
      "[180]\tvalidation_0-error:0.106413\tvalidation_1-error:0.10326\n",
      "[181]\tvalidation_0-error:0.094678\tvalidation_1-error:0.091989\n",
      "[182]\tvalidation_0-error:0.094678\tvalidation_1-error:0.091989\n",
      "[183]\tvalidation_0-error:0.095442\tvalidation_1-error:0.093001\n",
      "[184]\tvalidation_0-error:0.107111\tvalidation_1-error:0.104272\n",
      "[185]\tvalidation_0-error:0.106346\tvalidation_1-error:0.10326\n",
      "[186]\tvalidation_0-error:0.094611\tvalidation_1-error:0.091989\n",
      "[187]\tvalidation_0-error:0.094611\tvalidation_1-error:0.091989\n",
      "[188]\tvalidation_0-error:0.107111\tvalidation_1-error:0.104272\n",
      "[189]\tvalidation_0-error:0.107111\tvalidation_1-error:0.104272\n",
      "[190]\tvalidation_0-error:0.094611\tvalidation_1-error:0.091989\n",
      "[191]\tvalidation_0-error:0.094611\tvalidation_1-error:0.091989\n",
      "[192]\tvalidation_0-error:0.094545\tvalidation_1-error:0.091921\n",
      "[193]\tvalidation_0-error:0.095276\tvalidation_1-error:0.092934\n",
      "[194]\tvalidation_0-error:0.095309\tvalidation_1-error:0.092934\n",
      "[195]\tvalidation_0-error:0.088893\tvalidation_1-error:0.08497\n",
      "[196]\tvalidation_0-error:0.101393\tvalidation_1-error:0.097253\n",
      "[197]\tvalidation_0-error:0.095276\tvalidation_1-error:0.092934\n",
      "[198]\tvalidation_0-error:0.089658\tvalidation_1-error:0.085982\n",
      "[199]\tvalidation_0-error:0.088893\tvalidation_1-error:0.08497\n"
     ]
    },
    {
     "data": {
      "text/plain": [
       "XGBClassifier(base_score=0.5, booster='gbtree', colsample_bylevel=1,\n",
       "              colsample_bytree=1, gamma=1, learning_rate=0.01, max_delta_step=0,\n",
       "              max_depth=3, min_child_weight=1, missing=None, n_estimators=200,\n",
       "              n_jobs=1, nthread=None, objective='binary:logistic',\n",
       "              random_state=0, reg_alpha=0, reg_lambda=1, scale_pos_weight=1,\n",
       "              seed=None, silent=True, subsample=1)"
      ]
     },
     "execution_count": 88,
     "metadata": {},
     "output_type": "execute_result"
    }
   ],
   "source": [
    "eval_set = [(train,y_train), (test, y_test)]\n",
    "xgb_model.fit(train,y_train, eval_metric = [\"error\"], eval_set = eval_set)"
   ]
  },
  {
   "cell_type": "code",
   "execution_count": 95,
   "metadata": {},
   "outputs": [
    {
     "name": "stdout",
     "output_type": "stream",
     "text": [
      "[0 1 0 ... 1 1 1]\n"
     ]
    }
   ],
   "source": [
    "xgb_pred = xgb_model.predict(test)\n",
    "print(xgb_pred)"
   ]
  },
  {
   "cell_type": "code",
   "execution_count": 109,
   "metadata": {},
   "outputs": [
    {
     "name": "stdout",
     "output_type": "stream",
     "text": [
      "The accuracy of the XGBoost Model is 91.5\n"
     ]
    }
   ],
   "source": [
    "accuracy_score(xgb_pred,y_test)\n",
    "print(\"The accuracy of the XGBoost Model is\", round(accuracy_score(xgb_pred, y_test)*100,2))"
   ]
  },
  {
   "cell_type": "code",
   "execution_count": 91,
   "metadata": {},
   "outputs": [
    {
     "data": {
      "image/png": "[encoded data removed]",
      "text/plain": [
       "<Figure size 864x864 with 1 Axes>"
      ]
     },
     "metadata": {
      "needs_background": "light"
     },
     "output_type": "display_data"
    }
   ],
   "source": [
    "results = xgb_model.evals_result()\n",
    "epochs = len(results['validation_0']['error'])\n",
    "x_axis = range(0, epochs)\n",
    "\n",
    "# plot log loss\n",
    "fig, ax = plt.subplots(figsize = (12,12))\n",
    "ax.plot(x_axis, results['validation_0']['error'], label = 'Train')\n",
    "ax.plot(x_axis, results['validation_1']['error'], label = 'Test')\n",
    "ax.legend()\n",
    "plt.ylabel('Error Loss')\n",
    "plt.xlabel('Epochs')\n",
    "plt.title('XGBoost train-test Error Loss')\n",
    "plt.show()"
   ]
  },
  {
   "cell_type": "code",
   "execution_count": 97,
   "metadata": {},
   "outputs": [
    {
     "data": {
      "image/png": "[encoded data removed]",
      "text/plain": [
       "<Figure size 432x288 with 2 Axes>"
      ]
     },
     "metadata": {
      "needs_background": "light"
     },
     "output_type": "display_data"
    }
   ],
   "source": [
    "xg_res = confusion_matrix(y_test, xgb_pred)\n",
    "plot_confusion_matrix(xg_res, ['Fake','Real'])"
   ]
  },
  {
   "cell_type": "code",
   "execution_count": 98,
   "metadata": {},
   "outputs": [
    {
     "data": {
      "text/plain": [
       "0    7711\n",
       "1    7106\n",
       "Name: label, dtype: int64"
      ]
     },
     "execution_count": 98,
     "metadata": {},
     "output_type": "execute_result"
    }
   ],
   "source": [
    "y_test.value_counts()"
   ]
  },
  {
   "cell_type": "code",
   "execution_count": 99,
   "metadata": {},
   "outputs": [
    {
     "name": "stdout",
     "output_type": "stream",
     "text": [
      "              precision    recall  f1-score   support\n",
      "\n",
      "        Fake       0.96      0.87      0.91      7711\n",
      "        Real       0.87      0.96      0.92      7106\n",
      "\n",
      "    accuracy                           0.92     14817\n",
      "   macro avg       0.92      0.92      0.92     14817\n",
      "weighted avg       0.92      0.92      0.92     14817\n",
      "\n"
     ]
    }
   ],
   "source": [
    "from sklearn.metrics import classification_report\n",
    "print(classification_report(y_test, xgb_pred, target_names=[\"Fake\", \"Real\"]))"
   ]
  },
  {
   "cell_type": "markdown",
   "metadata": {},
   "source": [
    "## CNN\n",
    "CNN model is built on the text and title feature. "
   ]
  },
  {
   "cell_type": "code",
   "execution_count": 71,
   "metadata": {},
   "outputs": [],
   "source": [
    "from keras.preprocessing.text import Tokenizer\n",
    "from keras.preprocessing.sequence import pad_sequences\n",
    "from keras.models import Sequential\n",
    "from keras import layers\n",
    "import keras\n",
    "\n",
    "X_news = data[\"title\"] + \" \" + data[\"text\"]\n",
    "y_news = data[\"label\"]\n",
    "\n",
    "X_train2, X_test2, y_train2, y_test2 = train_test_split(X_news,y_news, test_size = 0.33, random_state = 42)\n",
    "\n",
    "#tokenize the text data\n",
    "tokenizer = Tokenizer(num_words = 5000)\n",
    "tokenizer.fit_on_texts(X_train2)\n",
    "\n",
    "X_train_cnn = tokenizer.texts_to_sequences(X_train2)\n",
    "X_test_cnn = tokenizer.texts_to_sequences(X_test2)\n",
    "\n",
    "#create a vocabulary size based on the word index created using tokenizer\n",
    "vocab_size = len(tokenizer.word_index) + 1 "
   ]
  },
  {
   "cell_type": "code",
   "execution_count": 72,
   "metadata": {},
   "outputs": [
    {
     "data": {
      "text/plain": [
       "103332"
      ]
     },
     "execution_count": 72,
     "metadata": {},
     "output_type": "execute_result"
    }
   ],
   "source": [
    "vocab_size"
   ]
  },
  {
   "cell_type": "code",
   "execution_count": 73,
   "metadata": {},
   "outputs": [],
   "source": [
    "#max length takes only sentences less than 50\n",
    "maxlen = 50\n",
    "\n",
    "#Pad the sentences in X_train_cnn and X_test_cnn so that all data values are of same length\n",
    "X_train_cnn = pad_sequences(X_train_cnn, padding = 'post', maxlen = maxlen)\n",
    "X_test_cnn = pad_sequences(X_test_cnn, padding = 'post', maxlen = maxlen)"
   ]
  },
  {
   "cell_type": "code",
   "execution_count": 74,
   "metadata": {},
   "outputs": [
    {
     "name": "stdout",
     "output_type": "stream",
     "text": [
      "Model: \"sequential_4\"\n",
      "_________________________________________________________________\n",
      "Layer (type)                 Output Shape              Param #   \n",
      "=================================================================\n",
      "embedding_4 (Embedding)      (None, 50, 50)            5166600   \n",
      "_________________________________________________________________\n",
      "conv1d_10 (Conv1D)           (None, 48, 128)           19328     \n",
      "_________________________________________________________________\n",
      "max_pooling1d_7 (MaxPooling1 (None, 24, 128)           0         \n",
      "_________________________________________________________________\n",
      "dropout_13 (Dropout)         (None, 24, 128)           0         \n",
      "_________________________________________________________________\n",
      "conv1d_11 (Conv1D)           (None, 20, 128)           82048     \n",
      "_________________________________________________________________\n",
      "max_pooling1d_8 (MaxPooling1 (None, 10, 128)           0         \n",
      "_________________________________________________________________\n",
      "dropout_14 (Dropout)         (None, 10, 128)           0         \n",
      "_________________________________________________________________\n",
      "conv1d_12 (Conv1D)           (None, 4, 128)            114816    \n",
      "_________________________________________________________________\n",
      "global_max_pooling1d_4 (Glob (None, 128)               0         \n",
      "_________________________________________________________________\n",
      "dropout_15 (Dropout)         (None, 128)               0         \n",
      "_________________________________________________________________\n",
      "dense_7 (Dense)              (None, 64)                8256      \n",
      "_________________________________________________________________\n",
      "dropout_16 (Dropout)         (None, 64)                0         \n",
      "_________________________________________________________________\n",
      "dense_8 (Dense)              (None, 1)                 65        \n",
      "=================================================================\n",
      "Total params: 5,391,113\n",
      "Trainable params: 5,391,113\n",
      "Non-trainable params: 0\n",
      "_________________________________________________________________\n"
     ]
    }
   ],
   "source": [
    "#embedding dimension is set to 50\n",
    "embedding_dim = 50\n",
    "#define the optimizer with lr = 0.02\n",
    "opt = keras.optimizers.Adam(learning_rate = 0.01)\n",
    "\n",
    "#define the model layers with their filters, kernels, loss is set to binary_\n",
    "model = Sequential()\n",
    "model.add(layers.Embedding(vocab_size, embedding_dim, input_length=maxlen))\n",
    "model.add(layers.Conv1D(128, 3, activation='relu'))\n",
    "model.add(layers.MaxPooling1D(2))\n",
    "model.add(layers.Dropout(0.5))\n",
    "model.add(layers.Conv1D(128, 5, activation='relu'))\n",
    "model.add(layers.MaxPooling1D())\n",
    "model.add(layers.Dropout(0.5))\n",
    "model.add(layers.Conv1D(128, 7, activation='relu'))\n",
    "model.add(layers.GlobalMaxPooling1D())\n",
    "model.add(layers.Dropout(0.5))\n",
    "model.add(layers.Dense(64, activation='relu'))\n",
    "model.add(layers.Dropout(0.5))\n",
    "model.add(layers.Dense(1, activation='sigmoid'))\n",
    "model.compile(optimizer = opt,\n",
    "              loss='mse',\n",
    "              metrics=['accuracy'])\n",
    "model.summary()"
   ]
  },
  {
   "cell_type": "code",
   "execution_count": 78,
   "metadata": {},
   "outputs": [],
   "source": [
    "#train the model for 10 epochs, batch size of 32\n",
    "model_train = model.fit(X_train_cnn, y_train2,\n",
    "                    epochs = 10,\n",
    "                    verbose = False,\n",
    "                    validation_data=(X_test_cnn, y_test2),\n",
    "                    batch_size = 64)"
   ]
  },
  {
   "cell_type": "code",
   "execution_count": 110,
   "metadata": {},
   "outputs": [
    {
     "name": "stderr",
     "output_type": "stream",
     "text": [
      "/Users/admin/opt/anaconda3/lib/python3.7/site-packages/tensorflow/python/framework/indexed_slices.py:434: UserWarning: Converting sparse IndexedSlices to a dense Tensor of unknown shape. This may consume a large amount of memory.\n",
      "  \"Converting sparse IndexedSlices to a dense Tensor of unknown shape. \"\n"
     ]
    },
    {
     "name": "stdout",
     "output_type": "stream",
     "text": [
      "Model: \"sequential_3\"\n",
      "_________________________________________________________________\n",
      "Layer (type)                 Output Shape              Param #   \n",
      "=================================================================\n",
      "embedding_3 (Embedding)      (None, 50, 50)            5171250   \n",
      "_________________________________________________________________\n",
      "conv1d_7 (Conv1D)            (None, 48, 128)           19328     \n",
      "_________________________________________________________________\n",
      "max_pooling1d_5 (MaxPooling1 (None, 24, 128)           0         \n",
      "_________________________________________________________________\n",
      "dropout_9 (Dropout)          (None, 24, 128)           0         \n",
      "_________________________________________________________________\n",
      "conv1d_8 (Conv1D)            (None, 20, 128)           82048     \n",
      "_________________________________________________________________\n",
      "max_pooling1d_6 (MaxPooling1 (None, 10, 128)           0         \n",
      "_________________________________________________________________\n",
      "dropout_10 (Dropout)         (None, 10, 128)           0         \n",
      "_________________________________________________________________\n",
      "conv1d_9 (Conv1D)            (None, 4, 128)            114816    \n",
      "_________________________________________________________________\n",
      "global_max_pooling1d_3 (Glob (None, 128)               0         \n",
      "_________________________________________________________________\n",
      "dropout_11 (Dropout)         (None, 128)               0         \n",
      "_________________________________________________________________\n",
      "dense_5 (Dense)              (None, 64)                8256      \n",
      "_________________________________________________________________\n",
      "dropout_12 (Dropout)         (None, 64)                0         \n",
      "_________________________________________________________________\n",
      "dense_6 (Dense)              (None, 1)                 65        \n",
      "=================================================================\n",
      "Total params: 5,395,763\n",
      "Trainable params: 5,395,763\n",
      "Non-trainable params: 0\n",
      "_________________________________________________________________\n"
     ]
    }
   ],
   "source": [
    "#model.save(\"model.h5\")\n",
    "from keras.models import load_model\n",
    "model1 = load_model(\"model.h5\")\n",
    "model1.summary()\n"
   ]
  },
  {
   "cell_type": "code",
   "execution_count": 111,
   "metadata": {},
   "outputs": [
    {
     "name": "stdout",
     "output_type": "stream",
     "text": [
      "14817/14817 [==============================] - 5s 350us/step\n",
      "Testing Accuracy:  0.6698\n"
     ]
    }
   ],
   "source": [
    "loss, accuracy = model1.evaluate(X_test_cnn, y_test2, verbose = True)\n",
    "print(\"Testing Accuracy:  {:.4f}\".format(accuracy))"
   ]
  },
  {
   "cell_type": "code",
   "execution_count": 112,
   "metadata": {},
   "outputs": [
    {
     "data": {
      "image/png": "[encoded data removed]",
      "text/plain": [
       "<Figure size 432x288 with 2 Axes>"
      ]
     },
     "metadata": {
      "needs_background": "light"
     },
     "output_type": "display_data"
    }
   ],
   "source": [
    "cnn_pred = model1.predict_classes(X_test_cnn)\n",
    "cnn_res = confusion_matrix(y_test2, cnn_pred)\n",
    "plot_confusion_matrix(cnn_res, ['Fake','Real'])\n"
   ]
  },
  {
   "cell_type": "code",
   "execution_count": 82,
   "metadata": {},
   "outputs": [
    {
     "name": "stdout",
     "output_type": "stream",
     "text": [
      "14817/14817 [==============================] - 2s 104us/step\n",
      "              precision    recall  f1-score   support\n",
      "\n",
      "           0       0.62      0.92      0.74      7711\n",
      "           1       0.83      0.39      0.53      7106\n",
      "\n",
      "    accuracy                           0.67     14817\n",
      "   macro avg       0.72      0.66      0.64     14817\n",
      "weighted avg       0.72      0.67      0.64     14817\n",
      "\n"
     ]
    }
   ],
   "source": [
    "from sklearn.metrics import classification_report\n",
    "y_pred = model1.predict_classes(X_test_cnn, batch_size=64, verbose=1)\n",
    "print(classification_report(y_test2, y_pred))"
   ]
  },
  {
   "cell_type": "code",
   "execution_count": null,
   "metadata": {},
   "outputs": [],
   "source": []
  }
 ],
 "metadata": {
  "kernelspec": {
   "display_name": "Python 3",
   "language": "python",
   "name": "python3"
  },
  "language_info": {
   "codemirror_mode": {
    "name": "ipython",
    "version": 3
   },
   "file_extension": ".py",
   "mimetype": "text/x-python",
   "name": "python",
   "nbconvert_exporter": "python",
   "pygments_lexer": "ipython3",
   "version": "3.7.6"
  }
 },
 "nbformat": 4,
 "nbformat_minor": 4
}
